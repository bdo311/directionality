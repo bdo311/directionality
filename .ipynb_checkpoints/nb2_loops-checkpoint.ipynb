{
 "cells": [
  {
   "cell_type": "markdown",
   "metadata": {},
   "source": [
    "This notebook will try to understand directionality of DHS's in terms of the loops that they are involved in."
   ]
  },
  {
   "cell_type": "code",
   "execution_count": 1,
   "metadata": {
    "collapsed": false
   },
   "outputs": [
    {
     "name": "stdout",
     "output_type": "stream",
     "text": [
      "mkdir: cannot create directory `interm/nb2': File exists\r\n"
     ]
    }
   ],
   "source": [
    "import sys\n",
    "import os\n",
    "import numpy as np\n",
    "import pandas as pd\n",
    "import seaborn as sns\n",
    "import csv\n",
    "import collections\n",
    "import scipy\n",
    "import scipy.stats\n",
    "import cPickle as pickle\n",
    "csv.register_dialect(\"textdialect\", delimiter='\\t')\n",
    "HOME = \"/home/raflynn/directionality\"\n",
    "! mkdir interm/nb2\n",
    "%matplotlib inline"
   ]
  },
  {
   "cell_type": "markdown",
   "metadata": {},
   "source": [
    "## Prepare DHS and looping data"
   ]
  },
  {
   "cell_type": "code",
   "execution_count": 224,
   "metadata": {
    "collapsed": false
   },
   "outputs": [
    {
     "data": {
      "text/html": [
       "<div style=\"max-height:1000px;max-width:1500px;overflow:auto;\">\n",
       "<table border=\"1\" class=\"dataframe\">\n",
       "  <thead>\n",
       "    <tr style=\"text-align: right;\">\n",
       "      <th></th>\n",
       "      <th>0</th>\n",
       "      <th>1</th>\n",
       "      <th>2</th>\n",
       "      <th>3</th>\n",
       "      <th>4</th>\n",
       "      <th>5</th>\n",
       "    </tr>\n",
       "  </thead>\n",
       "  <tbody>\n",
       "    <tr>\n",
       "      <th>0</th>\n",
       "      <td> chr1</td>\n",
       "      <td> 3051710</td>\n",
       "      <td> 3053710</td>\n",
       "      <td> chr1__3051710__3053710__3053055__DHSpeak_1__13...</td>\n",
       "      <td> 2.711702</td>\n",
       "      <td> +</td>\n",
       "    </tr>\n",
       "    <tr>\n",
       "      <th>1</th>\n",
       "      <td> chr1</td>\n",
       "      <td> 3332745</td>\n",
       "      <td> 3334745</td>\n",
       "      <td> chr1__3332745__3334745__3333745__DHSpeak_2__12...</td>\n",
       "      <td> 0.475715</td>\n",
       "      <td> -</td>\n",
       "    </tr>\n",
       "    <tr>\n",
       "      <th>2</th>\n",
       "      <td> chr1</td>\n",
       "      <td> 3434895</td>\n",
       "      <td> 3436895</td>\n",
       "      <td> chr1__3434895__3436895__3435895__DHSpeak_3__12...</td>\n",
       "      <td> 0.000000</td>\n",
       "      <td> +</td>\n",
       "    </tr>\n",
       "    <tr>\n",
       "      <th>3</th>\n",
       "      <td> chr1</td>\n",
       "      <td> 3472095</td>\n",
       "      <td> 3474095</td>\n",
       "      <td> chr1__3472095__3474095__3473095__DHSpeak_4__11...</td>\n",
       "      <td> 3.256955</td>\n",
       "      <td> -</td>\n",
       "    </tr>\n",
       "    <tr>\n",
       "      <th>4</th>\n",
       "      <td> chr1</td>\n",
       "      <td> 3659925</td>\n",
       "      <td> 3661925</td>\n",
       "      <td> chr1__3659925__3661925__3660925__DHSpeak_7__10...</td>\n",
       "      <td>      inf</td>\n",
       "      <td> -</td>\n",
       "    </tr>\n",
       "  </tbody>\n",
       "</table>\n",
       "</div>"
      ],
      "text/plain": [
       "      0        1        2                                                  3  \\\n",
       "0  chr1  3051710  3053710  chr1__3051710__3053710__3053055__DHSpeak_1__13...   \n",
       "1  chr1  3332745  3334745  chr1__3332745__3334745__3333745__DHSpeak_2__12...   \n",
       "2  chr1  3434895  3436895  chr1__3434895__3436895__3435895__DHSpeak_3__12...   \n",
       "3  chr1  3472095  3474095  chr1__3472095__3474095__3473095__DHSpeak_4__11...   \n",
       "4  chr1  3659925  3661925  chr1__3659925__3661925__3660925__DHSpeak_7__10...   \n",
       "\n",
       "          4  5  \n",
       "0  2.711702  +  \n",
       "1  0.475715  -  \n",
       "2  0.000000  +  \n",
       "3  3.256955  -  \n",
       "4       inf  -  "
      ]
     },
     "execution_count": 224,
     "metadata": {},
     "output_type": "execute_result"
    }
   ],
   "source": [
    "dhs = pd.read_table(\"interm/nb1/160504_dhs_grodirec_sorted.bed\", header=None)\n",
    "dhs.head()"
   ]
  },
  {
   "cell_type": "code",
   "execution_count": 225,
   "metadata": {
    "collapsed": false
   },
   "outputs": [
    {
     "data": {
      "text/html": [
       "<div style=\"max-height:1000px;max-width:1500px;overflow:auto;\">\n",
       "<table border=\"1\" class=\"dataframe\">\n",
       "  <thead>\n",
       "    <tr style=\"text-align: right;\">\n",
       "      <th></th>\n",
       "      <th>name</th>\n",
       "      <th>GROcomb_total</th>\n",
       "      <th>Startseq_total</th>\n",
       "      <th>GROcomb_direc</th>\n",
       "      <th>Startseq_direc</th>\n",
       "    </tr>\n",
       "  </thead>\n",
       "  <tbody>\n",
       "    <tr>\n",
       "      <th>0</th>\n",
       "      <td> chr10__100050901__100052901__100051905__DHSpea...</td>\n",
       "      <td> 2.676530</td>\n",
       "      <td> 2.028329</td>\n",
       "      <td>-2.315269</td>\n",
       "      <td>-5.391503</td>\n",
       "    </tr>\n",
       "    <tr>\n",
       "      <th>1</th>\n",
       "      <td> chr10__100203865__100205865__100204865__DHSpea...</td>\n",
       "      <td>     -inf</td>\n",
       "      <td>     -inf</td>\n",
       "      <td>      NaN</td>\n",
       "      <td>      NaN</td>\n",
       "    </tr>\n",
       "    <tr>\n",
       "      <th>2</th>\n",
       "      <td> chr10__10040115__10042115__10041115__DHSpeak_6...</td>\n",
       "      <td>-3.458490</td>\n",
       "      <td>-2.259805</td>\n",
       "      <td>     -inf</td>\n",
       "      <td>     -inf</td>\n",
       "    </tr>\n",
       "    <tr>\n",
       "      <th>3</th>\n",
       "      <td> chr10__10074565__10076565__10075565__DHSpeak_6...</td>\n",
       "      <td>     -inf</td>\n",
       "      <td>     -inf</td>\n",
       "      <td>      NaN</td>\n",
       "      <td>      NaN</td>\n",
       "    </tr>\n",
       "    <tr>\n",
       "      <th>4</th>\n",
       "      <td> chr10__101044763__101046763__101045955__DHSpea...</td>\n",
       "      <td>-1.881533</td>\n",
       "      <td>-3.684404</td>\n",
       "      <td>-2.046448</td>\n",
       "      <td> 5.052868</td>\n",
       "    </tr>\n",
       "  </tbody>\n",
       "</table>\n",
       "</div>"
      ],
      "text/plain": [
       "                                                name  GROcomb_total  \\\n",
       "0  chr10__100050901__100052901__100051905__DHSpea...       2.676530   \n",
       "1  chr10__100203865__100205865__100204865__DHSpea...           -inf   \n",
       "2  chr10__10040115__10042115__10041115__DHSpeak_6...      -3.458490   \n",
       "3  chr10__10074565__10076565__10075565__DHSpeak_6...           -inf   \n",
       "4  chr10__101044763__101046763__101045955__DHSpea...      -1.881533   \n",
       "\n",
       "   Startseq_total  GROcomb_direc  Startseq_direc  \n",
       "0        2.028329      -2.315269       -5.391503  \n",
       "1            -inf            NaN             NaN  \n",
       "2       -2.259805           -inf            -inf  \n",
       "3            -inf            NaN             NaN  \n",
       "4       -3.684404      -2.046448        5.052868  "
      ]
     },
     "execution_count": 225,
     "metadata": {},
     "output_type": "execute_result"
    }
   ],
   "source": [
    "dhsdata = pd.read_table(\"interm/nb1/160504_dhs_grodirec_data.txt\")\n",
    "dhsdata.head()"
   ]
  },
  {
   "cell_type": "code",
   "execution_count": 226,
   "metadata": {
    "collapsed": false
   },
   "outputs": [
    {
     "data": {
      "text/html": [
       "<div style=\"max-height:1000px;max-width:1500px;overflow:auto;\">\n",
       "<table border=\"1\" class=\"dataframe\">\n",
       "  <thead>\n",
       "    <tr style=\"text-align: right;\">\n",
       "      <th></th>\n",
       "      <th>chr1</th>\n",
       "      <th>x1</th>\n",
       "      <th>x2</th>\n",
       "      <th>chr2</th>\n",
       "      <th>y1</th>\n",
       "      <th>y2</th>\n",
       "      <th>color</th>\n",
       "      <th>binBL</th>\n",
       "      <th>binDonut</th>\n",
       "      <th>binH</th>\n",
       "      <th>...</th>\n",
       "      <th>expectedH</th>\n",
       "      <th>expectedV</th>\n",
       "      <th>fdrBL</th>\n",
       "      <th>fdrDonut</th>\n",
       "      <th>fdrH</th>\n",
       "      <th>fdrV</th>\n",
       "      <th>numCollapsed</th>\n",
       "      <th>observed</th>\n",
       "      <th>peak</th>\n",
       "      <th>radius</th>\n",
       "    </tr>\n",
       "  </thead>\n",
       "  <tbody>\n",
       "    <tr>\n",
       "      <th>0</th>\n",
       "      <td> chr10</td>\n",
       "      <td> 50620000</td>\n",
       "      <td> 50630000</td>\n",
       "      <td> chr10</td>\n",
       "      <td> 51740000</td>\n",
       "      <td> 51750000</td>\n",
       "      <td> 0,255,255</td>\n",
       "      <td> 0</td>\n",
       "      <td> 1</td>\n",
       "      <td> 0</td>\n",
       "      <td>...</td>\n",
       "      <td> 1.140561</td>\n",
       "      <td> 1.431510</td>\n",
       "      <td> 0.000153</td>\n",
       "      <td> 0.000035</td>\n",
       "      <td> 0.000368</td>\n",
       "      <td> 0.000037</td>\n",
       "      <td> 1</td>\n",
       "      <td> 14</td>\n",
       "      <td> 3</td>\n",
       "      <td> 25000</td>\n",
       "    </tr>\n",
       "    <tr>\n",
       "      <th>1</th>\n",
       "      <td> chr10</td>\n",
       "      <td> 89540000</td>\n",
       "      <td> 89545000</td>\n",
       "      <td> chr10</td>\n",
       "      <td> 90150000</td>\n",
       "      <td> 90155000</td>\n",
       "      <td> 0,255,255</td>\n",
       "      <td> 2</td>\n",
       "      <td> 2</td>\n",
       "      <td> 4</td>\n",
       "      <td>...</td>\n",
       "      <td> 2.597734</td>\n",
       "      <td> 1.689074</td>\n",
       "      <td> 0.000066</td>\n",
       "      <td> 0.000061</td>\n",
       "      <td> 0.005890</td>\n",
       "      <td> 0.000097</td>\n",
       "      <td> 1</td>\n",
       "      <td> 15</td>\n",
       "      <td> 3</td>\n",
       "      <td> 22500</td>\n",
       "    </tr>\n",
       "    <tr>\n",
       "      <th>2</th>\n",
       "      <td> chr10</td>\n",
       "      <td> 26095000</td>\n",
       "      <td> 26100000</td>\n",
       "      <td> chr10</td>\n",
       "      <td> 26610000</td>\n",
       "      <td> 26615000</td>\n",
       "      <td> 0,255,255</td>\n",
       "      <td> 3</td>\n",
       "      <td> 5</td>\n",
       "      <td> 4</td>\n",
       "      <td>...</td>\n",
       "      <td> 3.127978</td>\n",
       "      <td> 3.669037</td>\n",
       "      <td> 0.000022</td>\n",
       "      <td> 0.002948</td>\n",
       "      <td> 0.000379</td>\n",
       "      <td> 0.003214</td>\n",
       "      <td> 1</td>\n",
       "      <td> 17</td>\n",
       "      <td> 4</td>\n",
       "      <td> 22500</td>\n",
       "    </tr>\n",
       "    <tr>\n",
       "      <th>3</th>\n",
       "      <td> chr10</td>\n",
       "      <td> 62545000</td>\n",
       "      <td> 62550000</td>\n",
       "      <td> chr10</td>\n",
       "      <td> 62595000</td>\n",
       "      <td> 62600000</td>\n",
       "      <td> 0,255,255</td>\n",
       "      <td> 3</td>\n",
       "      <td> 6</td>\n",
       "      <td> 3</td>\n",
       "      <td>...</td>\n",
       "      <td> 2.407262</td>\n",
       "      <td> 3.940076</td>\n",
       "      <td> 0.000022</td>\n",
       "      <td> 0.016392</td>\n",
       "      <td> 0.000033</td>\n",
       "      <td> 0.003214</td>\n",
       "      <td> 1</td>\n",
       "      <td> 17</td>\n",
       "      <td> 3</td>\n",
       "      <td> 22500</td>\n",
       "    </tr>\n",
       "    <tr>\n",
       "      <th>4</th>\n",
       "      <td> chr10</td>\n",
       "      <td> 31460000</td>\n",
       "      <td> 31470000</td>\n",
       "      <td> chr10</td>\n",
       "      <td> 32610000</td>\n",
       "      <td> 32620000</td>\n",
       "      <td> 0,255,255</td>\n",
       "      <td> 3</td>\n",
       "      <td> 4</td>\n",
       "      <td> 4</td>\n",
       "      <td>...</td>\n",
       "      <td> 2.678602</td>\n",
       "      <td> 2.727523</td>\n",
       "      <td> 0.000015</td>\n",
       "      <td> 0.000404</td>\n",
       "      <td> 0.000562</td>\n",
       "      <td> 0.000412</td>\n",
       "      <td> 1</td>\n",
       "      <td> 17</td>\n",
       "      <td> 5</td>\n",
       "      <td> 25000</td>\n",
       "    </tr>\n",
       "  </tbody>\n",
       "</table>\n",
       "<p>5 rows × 25 columns</p>\n",
       "</div>"
      ],
      "text/plain": [
       "    chr1        x1        x2   chr2        y1        y2      color  binBL  \\\n",
       "0  chr10  50620000  50630000  chr10  51740000  51750000  0,255,255      0   \n",
       "1  chr10  89540000  89545000  chr10  90150000  90155000  0,255,255      2   \n",
       "2  chr10  26095000  26100000  chr10  26610000  26615000  0,255,255      3   \n",
       "3  chr10  62545000  62550000  chr10  62595000  62600000  0,255,255      3   \n",
       "4  chr10  31460000  31470000  chr10  32610000  32620000  0,255,255      3   \n",
       "\n",
       "   binDonut  binH   ...    expectedH  expectedV     fdrBL  fdrDonut      fdrH  \\\n",
       "0         1     0   ...     1.140561   1.431510  0.000153  0.000035  0.000368   \n",
       "1         2     4   ...     2.597734   1.689074  0.000066  0.000061  0.005890   \n",
       "2         5     4   ...     3.127978   3.669037  0.000022  0.002948  0.000379   \n",
       "3         6     3   ...     2.407262   3.940076  0.000022  0.016392  0.000033   \n",
       "4         4     4   ...     2.678602   2.727523  0.000015  0.000404  0.000562   \n",
       "\n",
       "       fdrV  numCollapsed  observed  peak  radius  \n",
       "0  0.000037             1        14     3   25000  \n",
       "1  0.000097             1        15     3   22500  \n",
       "2  0.003214             1        17     4   22500  \n",
       "3  0.003214             1        17     3   22500  \n",
       "4  0.000412             1        17     5   25000  \n",
       "\n",
       "[5 rows x 25 columns]"
      ]
     },
     "execution_count": 226,
     "metadata": {},
     "output_type": "execute_result"
    }
   ],
   "source": [
    "loops = pd.read_table(\"data/loop/HiChIP_v65_merge_hiccups_default\")\n",
    "loops.head()"
   ]
  },
  {
   "cell_type": "code",
   "execution_count": 36,
   "metadata": {
    "collapsed": false
   },
   "outputs": [
    {
     "name": "stdout",
     "output_type": "stream",
     "text": [
      "chr1\t4482500\t4757500\r\n",
      "chr1\t4482500\t5007500\r\n",
      "chr1\t4485000\t19095000\r\n",
      "chr1\t4485000\t19205000\r\n",
      "chr1\t5175000\t5895000\r\n",
      "chr1\t5907500\t6127500\r\n",
      "chr1\t6395000\t6845000\r\n",
      "chr1\t7002500\t7197500\r\n",
      "chr1\t7005000\t7075000\r\n",
      "chr1\t7545000\t7755000\r\n"
     ]
    }
   ],
   "source": [
    "loops_samechr = loops[loops[\"chr1\"] == loops[\"chr2\"]]\n",
    "loops_samechr_coll = pd.concat([loops_samechr[\"chr1\"],\n",
    "                                (loops_samechr[\"x1\"] + loops_samechr[\"x2\"])/2,\n",
    "                                (loops_samechr[\"y1\"] + loops_samechr[\"y2\"])/2],\n",
    "                               axis=1)\n",
    "loops_samechr_coll[1] = loops_samechr_coll[1].astype(int)\n",
    "loops_samechr_coll[2] = loops_samechr_coll[2].astype(int)\n",
    "loops_samechr_coll.to_csv(\"interm/nb2/mES_hichip_loops_collapsed.bed\", header=False, index=False, sep='\\t')\n",
    "! sort -k1,1 -k2,2n interm/nb2/mES_hichip_loops_collapsed.bed > interm/nb2/mES_hichip_loops_collapsed_sorted.bed\n",
    "! head interm/nb2/mES_hichip_loops_collapsed_sorted.bed"
   ]
  },
  {
   "cell_type": "code",
   "execution_count": 40,
   "metadata": {
    "collapsed": false
   },
   "outputs": [
    {
     "name": "stdout",
     "output_type": "stream",
     "text": [
      "chr1\t4482500\t4757500\tchr1\t4480869\t4482869\tchr1__4480869__4482869__4481775__DHSpeak_19__10_Poised_Promoter__31\t2.5582237840069735\t-\n",
      "chr1\t4482500\t4757500\tchr1\t4482017\t4484017\tchr1__4482017__4484017__4483095__DHSpeak_20__10_Poised_Promoter__765\tinf\t+\n",
      "chr1\t4482500\t4757500\tchr1\t4482794\t4484794\tchr1__4482794__4484794__4483835__DHSpeak_21__11_Repressed__210\tinf\t-\n",
      "chr1\t4482500\t4757500\tchr1\t4485834\t4487834\tchr1__4485834__4487834__4486805__DHSpeak_23__10_Poised_Promoter__589\t0\t+\n",
      "chr1\t4482500\t4757500\tchr1\t4533493\t4535493\tchr1__4533493__4535493__4534225__DHSpeak_24__8_Strong_Enhancer__228\t1.4625469561615498\t-\n",
      "chr1\t4482500\t4757500\tchr1\t4587645\t4589645\tchr1__4587645__4589645__4588645__DHSpeak_26__8_Strong_Enhancer__0\tinf\t-\n",
      "chr1\t4482500\t4757500\tchr1\t4601105\t4603105\tchr1__4601105__4603105__4602105__DHSpeak_28__12_Heterochrom__0\tinf\t-\n",
      "chr1\t4482500\t4757500\tchr1\t4649536\t4651536\tchr1__4649536__4651536__4650345__DHSpeak_29__12_Heterochrom__513\t2.2300007453930761\t-\n",
      "chr1\t4482500\t5007500\tchr1\t4480869\t4482869\tchr1__4480869__4482869__4481775__DHSpeak_19__10_Poised_Promoter__31\t2.5582237840069735\t-\n",
      "chr1\t4482500\t5007500\tchr1\t4482017\t4484017\tchr1__4482017__4484017__4483095__DHSpeak_20__10_Poised_Promoter__765\tinf\t+\n",
      "147960 interm/nb2/mES_loops_overlap_dhs.txt\n"
     ]
    }
   ],
   "source": [
    "! bedtools intersect -a interm/nb2/mES_hichip_loops_collapsed_sorted.bed \\\n",
    "-b interm/nb1/160504_dhs_grodirec_sorted.bed -wa -wb -sorted > interm/nb2/mES_loops_overlap_dhs.txt\n",
    "! head interm/nb2/mES_loops_overlap_dhs.txt\n",
    "! wc -l interm/nb2/mES_loops_overlap_dhs.txt"
   ]
  },
  {
   "cell_type": "code",
   "execution_count": 9,
   "metadata": {
    "collapsed": true
   },
   "outputs": [],
   "source": [
    "! grep -v random ../7SK/ChIRPseq/genes/mm9_refseq_tss_BED6.bed | sort -k1,1 -k2,2n | uniq > interm/nb2/mm9_refseq_tss.bed"
   ]
  },
  {
   "cell_type": "code",
   "execution_count": 10,
   "metadata": {
    "collapsed": false
   },
   "outputs": [
    {
     "name": "stdout",
     "output_type": "stream",
     "text": [
      "chr1\t4482500\t4757500\tchr1\t4486435\t4488435\tSox17\t0\t-\r\n",
      "chr1\t4482500\t5007500\tchr1\t4486435\t4488435\tSox17\t0\t-\r\n",
      "chr1\t4482500\t5007500\tchr1\t4774807\t4776807\tMrpl15\t0\t-\r\n",
      "chr1\t4482500\t5007500\tchr1\t4796973\t4798973\tLypla1\t0\t+\r\n",
      "chr1\t4482500\t5007500\tchr1\t4846774\t4848774\tTcea1\t0\t+\r\n",
      "chr1\t4485000\t19095000\tchr1\t4486435\t4488435\tSox17\t0\t-\r\n",
      "chr1\t4485000\t19095000\tchr1\t4774807\t4776807\tMrpl15\t0\t-\r\n",
      "chr1\t4485000\t19095000\tchr1\t4796973\t4798973\tLypla1\t0\t+\r\n",
      "chr1\t4485000\t19095000\tchr1\t4846774\t4848774\tTcea1\t0\t+\r\n",
      "chr1\t4485000\t19095000\tchr1\t5059366\t5061366\tRgs20\t0\t-\r\n"
     ]
    }
   ],
   "source": [
    "! bedtools intersect -a interm/nb2/mES_hichip_loops_collapsed_sorted.bed \\\n",
    "-b interm/nb2/mm9_refseq_tss.bed -wa -wb -sorted > interm/nb2/mES_loops_overlap_tss.txt\n",
    "! head interm/nb2/mES_loops_overlap_tss.txt"
   ]
  },
  {
   "cell_type": "markdown",
   "metadata": {},
   "source": [
    "## Do loops have characteristic directionalities?"
   ]
  },
  {
   "cell_type": "code",
   "execution_count": 16,
   "metadata": {
    "collapsed": true
   },
   "outputs": [],
   "source": [
    "loop_to_dhs = collections.defaultdict(lambda: [])\n",
    "with open(\"interm/nb2/mES_loops_overlap_dhs.txt\", 'r') as ifile:\n",
    "    reader = csv.reader(ifile, 'textdialect')\n",
    "    for row in reader:\n",
    "        loop = '__'.join(row[:3])\n",
    "        loop_to_dhs[loop].append(row[3:])"
   ]
  },
  {
   "cell_type": "code",
   "execution_count": 11,
   "metadata": {
    "collapsed": true
   },
   "outputs": [],
   "source": [
    "loop_to_tss = collections.defaultdict(lambda: [])\n",
    "with open(\"interm/nb2/mES_loops_overlap_tss.txt\", 'r') as ifile:\n",
    "    reader = csv.reader(ifile, 'textdialect')\n",
    "    for row in reader:\n",
    "        loop = '__'.join(row[:3])\n",
    "        loop_to_tss[loop].append(row[3:])"
   ]
  },
  {
   "cell_type": "code",
   "execution_count": 17,
   "metadata": {
    "collapsed": false
   },
   "outputs": [
    {
     "name": "stdout",
     "output_type": "stream",
     "text": [
      "0\n",
      "1000\n",
      "2000\n",
      "3000\n",
      "4000\n",
      "5000\n",
      "6000\n",
      "7000\n"
     ]
    }
   ],
   "source": [
    "all_num_plus = pd.DataFrame(np.zeros((len(loop_to_dhs.keys()),2)), columns=[\"ratio\", \"total\"])\n",
    "all_num_plus_sim = pd.DataFrame(np.zeros((len(loop_to_dhs.keys()),2)), columns=[\"ratio\", \"total\"])\n",
    "all_enh_plus = pd.DataFrame(np.zeros((len(loop_to_dhs.keys()),2)), columns=[\"ratio\", \"total\"])\n",
    "all_enh_plus_sim = pd.DataFrame(np.zeros((len(loop_to_dhs.keys()),2)), columns=[\"ratio\", \"total\"])\n",
    "all_prom_plus = pd.DataFrame(np.zeros((len(loop_to_dhs.keys()),2)), columns=[\"ratio\", \"total\"])\n",
    "all_prom_plus_sim = pd.DataFrame(np.zeros((len(loop_to_dhs.keys()),2)), columns=[\"ratio\", \"total\"])\n",
    "num_counter = num_sim_counter = enh_counter = enh_sim_counter = prom_counter = prom_sim_counter = 0\n",
    "for loop in loop_to_dhs:\n",
    "    if num_counter % 1000 == 0: print num_counter\n",
    "    dhs_list = loop_to_dhs[loop]\n",
    "    num_plus = num_total = enh_plus = enh_total = prom_plus = prom_total = 0\n",
    "    \n",
    "    for dhs in dhs_list:\n",
    "        if dhs[4] == '0': continue\n",
    "        num_total += 1\n",
    "        if dhs[5] == '+': num_plus += 1\n",
    "        if 'enhancer' in dhs[3].lower(): \n",
    "            enh_total += 1\n",
    "            if dhs[5] == '+': enh_plus += 1\n",
    "        elif 'promoter' in dhs[3].lower(): \n",
    "            prom_total += 1\n",
    "            if dhs[5] == '+': prom_plus += 1   \n",
    "                \n",
    "    if num_total > 0:\n",
    "        ratio = float(num_plus)/num_total\n",
    "        ratio = np.max([ratio, 1 - ratio])\n",
    "        all_num_plus.ix[num_counter,:] = [ratio, num_total]\n",
    "\n",
    "        num_plus_sim = np.random.binomial(num_total, 0.5)\n",
    "        sim_ratio = num_plus_sim/float(num_total)\n",
    "        sim_ratio = np.max([sim_ratio, 1 - sim_ratio])\n",
    "        all_num_plus_sim.ix[num_counter,:] = [sim_ratio, num_total]\n",
    "        num_counter += 1\n",
    "        \n",
    "    if enh_total > 0:\n",
    "        ratio = float(enh_plus)/enh_total\n",
    "        ratio = np.max([ratio, 1 - ratio])\n",
    "        all_enh_plus.ix[enh_counter,:] = [ratio, enh_total]\n",
    "\n",
    "        num_plus_sim = np.random.binomial(enh_total, 0.5)\n",
    "        sim_ratio = num_plus_sim/float(enh_total)\n",
    "        sim_ratio = np.max([sim_ratio, 1 - sim_ratio])\n",
    "        all_enh_plus_sim.ix[enh_counter,:] = [sim_ratio, enh_total]\n",
    "        enh_counter += 1\n",
    "        \n",
    "    if prom_total > 0:\n",
    "        ratio = float(prom_plus)/prom_total\n",
    "        ratio = np.max([ratio, 1 - ratio])\n",
    "        all_prom_plus.ix[prom_counter,:] = [ratio, prom_total]\n",
    "\n",
    "        num_plus_sim = np.random.binomial(prom_total, 0.5)\n",
    "        sim_ratio = num_plus_sim/float(prom_total)\n",
    "        sim_ratio = np.max([sim_ratio, 1 - sim_ratio])\n",
    "        all_prom_plus_sim.ix[prom_counter,:] = [sim_ratio, prom_total]\n",
    "        prom_counter += 1        "
   ]
  },
  {
   "cell_type": "code",
   "execution_count": 18,
   "metadata": {
    "collapsed": false
   },
   "outputs": [
    {
     "name": "stdout",
     "output_type": "stream",
     "text": [
      "0\n",
      "1000\n",
      "2000\n",
      "3000\n",
      "4000\n",
      "5000\n",
      "6000\n"
     ]
    }
   ],
   "source": [
    "all_tss_plus = pd.DataFrame(np.zeros((len(loop_to_tss.keys()),2)), columns=[\"ratio\", \"total\"])\n",
    "all_tss_plus_sim = pd.DataFrame(np.zeros((len(loop_to_tss.keys()),2)), columns=[\"ratio\", \"total\"])\n",
    "num_counter = num_sim_counter = 0\n",
    "for loop in loop_to_tss:\n",
    "    if num_counter % 1000 == 0: print num_counter\n",
    "    tss_list = loop_to_tss[loop]\n",
    "    num_plus = num_total = 0\n",
    "    \n",
    "    for tss in tss_list:\n",
    "        num_total += 1\n",
    "        if tss[5] == '+': num_plus += 1  \n",
    "                \n",
    "    if num_total > 0:\n",
    "        ratio = float(num_plus)/num_total\n",
    "        ratio = np.max([ratio, 1 - ratio])\n",
    "        all_tss_plus.ix[num_counter,:] = [ratio, num_total]\n",
    "\n",
    "        num_plus_sim = np.random.binomial(num_total, 0.5)\n",
    "        sim_ratio = num_plus_sim/float(num_total)\n",
    "        sim_ratio = np.max([sim_ratio, 1 - sim_ratio])\n",
    "        all_tss_plus_sim.ix[num_counter,:] = [sim_ratio, num_total]\n",
    "        num_counter += 1"
   ]
  },
  {
   "cell_type": "code",
   "execution_count": 21,
   "metadata": {
    "collapsed": false
   },
   "outputs": [
    {
     "name": "stdout",
     "output_type": "stream",
     "text": [
      "1319\n"
     ]
    },
    {
     "data": {
      "image/png": "[encoded data removed]",
      "text/plain": [
       "<matplotlib.figure.Figure at 0x2aaac0beab50>"
      ]
     },
     "metadata": {},
     "output_type": "display_data"
    }
   ],
   "source": [
    "all_tss_plus_plot = all_tss_plus[(all_tss_plus[\"total\"] > 4)]\n",
    "all_tss_plus_plot2 = all_tss_plus_plot.copy()\n",
    "all_tss_plus_plot2[\"log2total\"] = np.log2(all_tss_plus_plot2[\"total\"])\n",
    "print all_tss_plus_plot.shape[0]\n",
    "with sns.axes_style(\"whitegrid\"):\n",
    "    sns.jointplot(x=\"ratio\", y=\"log2total\", data=all_tss_plus_plot2, kind=\"hex\")"
   ]
  },
  {
   "cell_type": "code",
   "execution_count": 22,
   "metadata": {
    "collapsed": false
   },
   "outputs": [
    {
     "data": {
      "text/plain": [
       "<matplotlib.text.Text at 0x2aaac09d3290>"
      ]
     },
     "execution_count": 22,
     "metadata": {},
     "output_type": "execute_result"
    },
    {
     "data": {
      "image/png": "[encoded data removed]",
      "text/plain": [
       "<matplotlib.figure.Figure at 0x2aaac09fb5d0>"
      ]
     },
     "metadata": {},
     "output_type": "display_data"
    }
   ],
   "source": [
    "all_tss_plus_sim_plot = all_tss_plus_sim[(all_tss_plus_sim[\"total\"] > 4)]\n",
    "sns.distplot(all_tss_plus_sim_plot[\"ratio\"], label=\"expected\", hist=False)\n",
    "sns.distplot(all_tss_plus_plot[\"ratio\"], label=\"observed\", hist=False)\n",
    "sns.plt.xlim([0.5,1])\n",
    "sns.plt.xlabel(\"Pct TSS's with same directionality\")\n",
    "sns.plt.ylabel(\"Density\")\n",
    "sns.plt.title(\"Percentage of TSS's with same directionality\\nin loops with 5 or more transcriptionally active DHS's\")"
   ]
  },
  {
   "cell_type": "code",
   "execution_count": 24,
   "metadata": {
    "collapsed": false
   },
   "outputs": [
    {
     "data": {
      "text/plain": [
       "(0.062926459438968907, 0.010250544818402142)"
      ]
     },
     "execution_count": 24,
     "metadata": {},
     "output_type": "execute_result"
    }
   ],
   "source": [
    "scipy.stats.ks_2samp(all_tss_plus_sim_plot[\"ratio\"], all_tss_plus_plot[\"ratio\"])"
   ]
  },
  {
   "cell_type": "code",
   "execution_count": 19,
   "metadata": {
    "collapsed": false
   },
   "outputs": [
    {
     "name": "stdout",
     "output_type": "stream",
     "text": [
      "5378\n"
     ]
    },
    {
     "data": {
      "image/png": "[encoded data removed]",
      "text/plain": [
       "<matplotlib.figure.Figure at 0x2aaabd073590>"
      ]
     },
     "metadata": {},
     "output_type": "display_data"
    }
   ],
   "source": [
    "all_num_plus_plot = all_num_plus[(all_num_plus[\"total\"] > 4)]\n",
    "all_num_plus_plot2 = all_num_plus_plot.copy()\n",
    "all_num_plus_plot2[\"log2total\"] = np.log2(all_num_plus_plot2[\"total\"])\n",
    "print all_num_plus_plot.shape[0]\n",
    "with sns.axes_style(\"whitegrid\"):\n",
    "    sns.jointplot(x=\"ratio\", y=\"log2total\", data=all_num_plus_plot2, kind=\"hex\")"
   ]
  },
  {
   "cell_type": "code",
   "execution_count": 20,
   "metadata": {
    "collapsed": false
   },
   "outputs": [
    {
     "data": {
      "text/plain": [
       "<matplotlib.text.Text at 0x2aaac0c00450>"
      ]
     },
     "execution_count": 20,
     "metadata": {},
     "output_type": "execute_result"
    },
    {
     "data": {
      "image/png": "[encoded data removed]",
      "text/plain": [
       "<matplotlib.figure.Figure at 0x2aaac0a55750>"
      ]
     },
     "metadata": {},
     "output_type": "display_data"
    }
   ],
   "source": [
    "all_num_plus_sim_plot = all_num_plus_sim[(all_num_plus_sim[\"total\"] > 4)]\n",
    "sns.distplot(all_num_plus_sim_plot[\"ratio\"], label=\"expected\", hist=False)\n",
    "sns.distplot(all_num_plus_plot[\"ratio\"], label=\"observed\", hist=False)\n",
    "sns.plt.xlim([0.5,1])\n",
    "sns.plt.xlabel(\"Pct DHS's with same directionality\")\n",
    "sns.plt.ylabel(\"Density\")\n",
    "sns.plt.title(\"Percentage of DHS's with same directionality\\nin loops with 5 or more transcriptionally active DHS's\")"
   ]
  },
  {
   "cell_type": "code",
   "execution_count": 25,
   "metadata": {
    "collapsed": false
   },
   "outputs": [
    {
     "data": {
      "text/plain": [
       "(0.15228709557456299, 7.5689287417797749e-55)"
      ]
     },
     "execution_count": 25,
     "metadata": {},
     "output_type": "execute_result"
    }
   ],
   "source": [
    "scipy.stats.ks_2samp(all_num_plus_sim_plot[\"ratio\"], all_num_plus_plot[\"ratio\"])"
   ]
  },
  {
   "cell_type": "code",
   "execution_count": 253,
   "metadata": {
    "collapsed": false
   },
   "outputs": [
    {
     "name": "stdout",
     "output_type": "stream",
     "text": [
      "0.367608776497 0.222573447378 1.65162907268\n"
     ]
    }
   ],
   "source": [
    "a = all_num_plus_plot[all_num_plus_plot[\"ratio\"] >= 0.7].shape[0]/float(all_num_plus_plot.shape[0])\n",
    "b = all_num_plus_sim_plot[all_num_plus_sim_plot[\"ratio\"] >= 0.7].shape[0]/float(all_num_plus_plot.shape[0])\n",
    "print a, b, a/b"
   ]
  },
  {
   "cell_type": "code",
   "execution_count": 27,
   "metadata": {
    "collapsed": false
   },
   "outputs": [
    {
     "data": {
      "text/plain": [
       "<matplotlib.text.Text at 0x2aaac0e0b950>"
      ]
     },
     "execution_count": 27,
     "metadata": {},
     "output_type": "execute_result"
    },
    {
     "data": {
      "image/png": "[encoded data removed]",
      "text/plain": [
       "<matplotlib.figure.Figure at 0x2aaac0de4a50>"
      ]
     },
     "metadata": {},
     "output_type": "display_data"
    }
   ],
   "source": [
    "all_enh_plus_plot = all_enh_plus[(all_enh_plus[\"total\"] > 4)]\n",
    "all_enh_plus_sim_plot = all_enh_plus_sim[(all_enh_plus_sim[\"total\"] > 4)]\n",
    "sns.distplot(all_enh_plus_sim_plot[\"ratio\"], label=\"expected\", hist=False)\n",
    "sns.distplot(all_enh_plus_plot[\"ratio\"], label=\"observed\", hist=False)\n",
    "sns.plt.xlim([0.5,1])\n",
    "sns.plt.xlabel(\"Pct enhancer DHS's with same directionality\")\n",
    "sns.plt.ylabel(\"Density\")\n",
    "sns.plt.title(\"Percentage of enhancer DHS's with same directionality\\nin loops with >=5 transcriptionally active enhancer DHS's\")"
   ]
  },
  {
   "cell_type": "code",
   "execution_count": 28,
   "metadata": {
    "collapsed": false
   },
   "outputs": [
    {
     "name": "stdout",
     "output_type": "stream",
     "text": [
      "0.397568389058 0.263221884498 1.5103926097\n"
     ]
    }
   ],
   "source": [
    "a = all_enh_plus_plot[all_enh_plus_plot[\"ratio\"] >= 0.7].shape[0]/float(all_enh_plus_plot.shape[0])\n",
    "b = all_enh_plus_sim_plot[all_enh_plus_sim_plot[\"ratio\"] >= 0.7].shape[0]/float(all_enh_plus_plot.shape[0])\n",
    "print a, b, a/b"
   ]
  },
  {
   "cell_type": "code",
   "execution_count": 29,
   "metadata": {
    "collapsed": false
   },
   "outputs": [
    {
     "data": {
      "text/plain": [
       "(0.14346504559270518, 2.9480667357670556e-15)"
      ]
     },
     "execution_count": 29,
     "metadata": {},
     "output_type": "execute_result"
    }
   ],
   "source": [
    "scipy.stats.ks_2samp(all_enh_plus_sim_plot[\"ratio\"], all_enh_plus_plot[\"ratio\"])"
   ]
  },
  {
   "cell_type": "code",
   "execution_count": 30,
   "metadata": {
    "collapsed": false
   },
   "outputs": [
    {
     "data": {
      "text/plain": [
       "<matplotlib.text.Text at 0x2aaac0ee6e50>"
      ]
     },
     "execution_count": 30,
     "metadata": {},
     "output_type": "execute_result"
    },
    {
     "data": {
      "image/png": "[encoded data removed]",
      "text/plain": [
       "<matplotlib.figure.Figure at 0x2aaac0d44510>"
      ]
     },
     "metadata": {},
     "output_type": "display_data"
    }
   ],
   "source": [
    "all_prom_plus_plot = all_prom_plus[(all_prom_plus[\"total\"] > 4)]\n",
    "all_prom_plus_sim_plot = all_prom_plus_sim[(all_prom_plus_sim[\"total\"] > 4)]\n",
    "sns.distplot(all_prom_plus_sim_plot[\"ratio\"], label=\"expected\", hist=False)\n",
    "sns.distplot(all_prom_plus_plot[\"ratio\"], label=\"observed\", hist=False)\n",
    "sns.plt.xlim([0.5,1])\n",
    "sns.plt.xlabel(\"Pct promoter DHS's with same directionality\")\n",
    "sns.plt.ylabel(\"Density\")\n",
    "sns.plt.title(\"Percentage of promoter DHS's with same directionality\\nin loops with >=5 transcriptionally active promoter DHS's\")"
   ]
  },
  {
   "cell_type": "code",
   "execution_count": 31,
   "metadata": {
    "collapsed": false
   },
   "outputs": [
    {
     "name": "stdout",
     "output_type": "stream",
     "text": [
      "0.332740213523 0.258007117438 1.28965517241\n"
     ]
    }
   ],
   "source": [
    "a = all_prom_plus_plot[all_prom_plus_plot[\"ratio\"] >= 0.7].shape[0]/float(all_prom_plus_plot.shape[0])\n",
    "b = all_prom_plus_sim_plot[all_prom_plus_sim_plot[\"ratio\"] >= 0.7].shape[0]/float(all_prom_plus_sim_plot.shape[0]) \n",
    "print a, b, a/b"
   ]
  },
  {
   "cell_type": "code",
   "execution_count": 32,
   "metadata": {
    "collapsed": false
   },
   "outputs": [
    {
     "data": {
      "text/plain": [
       "(0.080664294187425933, 3.13298107050534e-05)"
      ]
     },
     "execution_count": 32,
     "metadata": {},
     "output_type": "execute_result"
    }
   ],
   "source": [
    "scipy.stats.ks_2samp(all_prom_plus_sim_plot[\"ratio\"], all_prom_plus_plot[\"ratio\"])"
   ]
  },
  {
   "cell_type": "markdown",
   "metadata": {},
   "source": [
    "Thus, within a loop, DHS's are slightly more likely to be the same direction than by chance, and most of this is driven by enhancers being in the same direction as opposed to promoters being in the same direction.\n",
    "\n",
    "What about neighboring loops? If loops synchronize direction, then neighboring (non-overlapping) loops should not be expected to have similar directions either."
   ]
  },
  {
   "cell_type": "code",
   "execution_count": 256,
   "metadata": {
    "collapsed": true
   },
   "outputs": [],
   "source": [
    "overall_direc = []\n",
    "for loop in loop_to_dhs:\n",
    "    dhs_list = loop_to_dhs[loop]\n",
    "    p = m = 0\n",
    "    \n",
    "    for dhs in dhs_list:\n",
    "        if dhs[4] == '0': continue\n",
    "        if dhs[5] == '+': p += 1\n",
    "        else: m += 1\n",
    "            \n",
    "    if p > m: overall_direc.append('p')\n",
    "    elif p < m: overall_direc.append('m')\n",
    "    else: overall_direc.append('s')                "
   ]
  },
  {
   "cell_type": "code",
   "execution_count": 257,
   "metadata": {
    "collapsed": false
   },
   "outputs": [],
   "source": [
    "# stretches of m's or p's\n",
    "# todo: include 's' in there; but this probably won't change anything\n",
    "m_stretch = []\n",
    "p_stretch = []\n",
    "ctr = 1\n",
    "curr = 'x'\n",
    "for dhs in overall_direc:\n",
    "    if dhs == curr:\n",
    "        ctr += 1\n",
    "    else: \n",
    "        if curr == 'm': m_stretch.append(ctr)\n",
    "        elif curr == 'p': p_stretch.append(ctr)\n",
    "        curr = dhs\n",
    "        ctr = 1        "
   ]
  },
  {
   "cell_type": "markdown",
   "metadata": {},
   "source": [
    "Compared to chance??"
   ]
  },
  {
   "cell_type": "code",
   "execution_count": 259,
   "metadata": {
    "collapsed": false
   },
   "outputs": [
    {
     "name": "stdout",
     "output_type": "stream",
     "text": [
      "3614 3336 1019\n"
     ]
    }
   ],
   "source": [
    "print overall_direc.count(\"m\"), overall_direc.count(\"p\"), overall_direc.count(\"s\")"
   ]
  },
  {
   "cell_type": "code",
   "execution_count": 260,
   "metadata": {
    "collapsed": false
   },
   "outputs": [],
   "source": [
    "randsamp = [\"m\"] * overall_direc.count(\"m\")\n",
    "randsamp.extend([\"p\"] * overall_direc.count(\"p\"))\n",
    "randsamp.extend([\"s\"] * overall_direc.count(\"s\"))\n",
    "\n",
    "m_sample_stretch = {}\n",
    "p_sample_stretch = {}\n",
    "for i in range(50):\n",
    "    perm = np.random.permutation(randsamp)\n",
    "    m_stretch = []\n",
    "    p_stretch = []\n",
    "    ctr = 1\n",
    "    curr = 'x'\n",
    "    for dhs in perm:\n",
    "        if dhs == curr:\n",
    "            ctr += 1\n",
    "        else: \n",
    "            if curr == 'm': m_stretch.append(ctr)\n",
    "            elif curr == 'p': p_stretch.append(ctr)\n",
    "            curr = dhs\n",
    "            ctr = 1\n",
    "    m_sample_stretch[i] = m_stretch\n",
    "    p_sample_stretch[i] = p_stretch"
   ]
  },
  {
   "cell_type": "code",
   "execution_count": 289,
   "metadata": {
    "collapsed": false
   },
   "outputs": [
    {
     "data": {
      "text/plain": [
       "<matplotlib.text.Text at 0x2aaada6ac190>"
      ]
     },
     "execution_count": 289,
     "metadata": {},
     "output_type": "execute_result"
    },
    {
     "data": {
      "image/png": "[encoded data removed]",
      "text/plain": [
       "<matplotlib.figure.Figure at 0x2aaae64f31d0>"
      ]
     },
     "metadata": {},
     "output_type": "display_data"
    }
   ],
   "source": [
    "sns.plt.figure(figsize=[8,4])\n",
    "sns.distplot(m_stretch, kde=False, label=\"Observed\")\n",
    "sns.distplot(m_sample_stretch[1], kde=False, label=\"Random #1\")\n",
    "sns.distplot(m_sample_stretch[2], kde=False, label=\"Random #2\")\n",
    "sns.distplot(m_sample_stretch[3], kde=False, label=\"Random #3\")\n",
    "sns.distplot(m_sample_stretch[4], kde=False, label=\"Random #4\")\n",
    "sns.plt.legend()\n",
    "sns.plt.xlim([0,10])\n",
    "sns.plt.xlabel(\"Number of 'minus' loops in a row\")\n",
    "sns.plt.ylabel(\"Number of occurrences\")"
   ]
  },
  {
   "cell_type": "markdown",
   "metadata": {},
   "source": [
    "Thus, directionality is not synchronized across neighboring loops (compared to chance).\n",
    "\n",
    "Are loop boundaries in DHS's? Are they enriched for insulators?"
   ]
  },
  {
   "cell_type": "code",
   "execution_count": 355,
   "metadata": {
    "collapsed": false
   },
   "outputs": [
    {
     "name": "stdout",
     "output_type": "stream",
     "text": [
      "chr1\t4480000\t4485000\r\n",
      "chr1\t4480000\t4490000\r\n",
      "chr1\t4755000\t4760000\r\n",
      "chr1\t5005000\t5010000\r\n",
      "chr1\t5170000\t5180000\r\n",
      "chr1\t5890000\t5900000\r\n",
      "chr1\t5905000\t5910000\r\n",
      "chr1\t6125000\t6130000\r\n",
      "chr1\t6390000\t6400000\r\n",
      "chr1\t6840000\t6850000\r\n"
     ]
    }
   ],
   "source": [
    "loop1 = loops.ix[:,:3]\n",
    "loop2 = loops.ix[:,3:6]\n",
    "loop1.columns = [\"chr\", \"x\", \"y\"]\n",
    "loop2.columns = [\"chr\", \"x\", \"y\"]\n",
    "boundaries = pd.concat((loop1, loop2))\n",
    "boundaries.to_csv(\"interm/nb2/mES_loop_boundaries.bed\", header=False, index=False, sep='\\t')\n",
    "! sort -k1,1 -k2,2n interm/nb2/mES_loop_boundaries.bed | uniq > interm/nb2/mES_loop_boundaries_sorted.bed\n",
    "! head interm/nb2/mES_loop_boundaries_sorted.bed"
   ]
  },
  {
   "cell_type": "code",
   "execution_count": 356,
   "metadata": {
    "collapsed": false
   },
   "outputs": [
    {
     "name": "stdout",
     "output_type": "stream",
     "text": [
      "chr1\t4480000\t4485000\tchr1\t4479745\t4481745\tchr1__4479745__4481745__4480745__DHSpeak_18__11_Repressed__0\t0\t+\r\n",
      "chr1\t4480000\t4485000\tchr1\t4480869\t4482869\tchr1__4480869__4482869__4481775__DHSpeak_19__10_Poised_Promoter__31\t2.5582237840069735\t-\r\n",
      "chr1\t4480000\t4485000\tchr1\t4482017\t4484017\tchr1__4482017__4484017__4483095__DHSpeak_20__10_Poised_Promoter__765\tinf\t+\r\n",
      "chr1\t4480000\t4485000\tchr1\t4482794\t4484794\tchr1__4482794__4484794__4483835__DHSpeak_21__11_Repressed__210\tinf\t-\r\n",
      "chr1\t4480000\t4490000\tchr1\t4479745\t4481745\tchr1__4479745__4481745__4480745__DHSpeak_18__11_Repressed__0\t0\t+\r\n",
      "chr1\t4480000\t4490000\tchr1\t4480869\t4482869\tchr1__4480869__4482869__4481775__DHSpeak_19__10_Poised_Promoter__31\t2.5582237840069735\t-\r\n",
      "chr1\t4480000\t4490000\tchr1\t4482017\t4484017\tchr1__4482017__4484017__4483095__DHSpeak_20__10_Poised_Promoter__765\tinf\t+\r\n",
      "chr1\t4480000\t4490000\tchr1\t4482794\t4484794\tchr1__4482794__4484794__4483835__DHSpeak_21__11_Repressed__210\tinf\t-\r\n",
      "chr1\t4480000\t4490000\tchr1\t4485834\t4487834\tchr1__4485834__4487834__4486805__DHSpeak_23__10_Poised_Promoter__589\t0\t+\r\n",
      "chr1\t4755000\t4760000\tchr1\t4757605\t4759605\tchr1__4757605__4759605__4758605__DHSpeak_31__15_Insulator__0\tinf\t-\r\n"
     ]
    }
   ],
   "source": [
    "! bedtools intersect -a interm/nb2/mES_loop_boundaries_sorted.bed \\\n",
    "-b interm/nb1/160504_dhs_grodirec_sorted.bed -wa -wb -sorted > interm/nb2/mES_loop_boundaries_intersectWithDHS.bed\n",
    "! head -n10 interm/nb2/mES_loop_boundaries_intersectWithDHS.bed"
   ]
  },
  {
   "cell_type": "code",
   "execution_count": 357,
   "metadata": {
    "collapsed": false
   },
   "outputs": [
    {
     "name": "stdout",
     "output_type": "stream",
     "text": [
      "3341 3361 2092 10109\n",
      "0.330497576417 0.332476011475 0.206944307053\n"
     ]
    }
   ],
   "source": [
    "boundary_to_dhs = collections.defaultdict(lambda: [])\n",
    "with open(\"interm/nb2/mES_loop_boundaries_intersectWithDHS.bed\", 'r') as ifile:\n",
    "    reader = csv.reader(ifile, 'textdialect')\n",
    "    for row in reader:\n",
    "        boundary_to_dhs['_'.join(row[:2])].append(row[6])\n",
    "ctr = 0  \n",
    "ins_ctr = set()\n",
    "prom_ctr = set()\n",
    "enh_ctr = set()\n",
    "for boundary in boundary_to_dhs:\n",
    "    ctr += 1\n",
    "    for dhs in boundary_to_dhs[boundary]:\n",
    "        if 'insulator' in dhs.lower(): ins_ctr.add(boundary)\n",
    "        if 'promoter' in dhs.lower(): prom_ctr.add(boundary)\n",
    "        if 'enhancer' in dhs.lower(): enh_ctr.add(boundary)\n",
    "            \n",
    "print len(ins_ctr), len(prom_ctr), len(enh_ctr), ctr\n",
    "print float(len(ins_ctr))/ctr, float(len(prom_ctr))/ctr, float(len(enh_ctr))/ctr"
   ]
  },
  {
   "cell_type": "code",
   "execution_count": 358,
   "metadata": {
    "collapsed": false
   },
   "outputs": [
    {
     "name": "stdout",
     "output_type": "stream",
     "text": [
      "chr1\t4480000\t4485000\tchr1\t4477200\t4481600\t11_Repressed\t0\t.\t4477200\t4481600\t127,127,127\r\n",
      "chr1\t4480000\t4485000\tchr1\t4481600\t4483800\t10_Poised_Promoter\t0\t.\t4481600\t4483800\t207,11,198\r\n",
      "chr1\t4480000\t4485000\tchr1\t4483800\t4486400\t11_Repressed\t0\t.\t4483800\t4486400\t127,127,127\r\n",
      "chr1\t4480000\t4490000\tchr1\t4477200\t4481600\t11_Repressed\t0\t.\t4477200\t4481600\t127,127,127\r\n",
      "chr1\t4480000\t4490000\tchr1\t4481600\t4483800\t10_Poised_Promoter\t0\t.\t4481600\t4483800\t207,11,198\r\n",
      "chr1\t4480000\t4490000\tchr1\t4483800\t4486400\t11_Repressed\t0\t.\t4483800\t4486400\t127,127,127\r\n",
      "chr1\t4480000\t4490000\tchr1\t4486400\t4487800\t10_Poised_Promoter\t0\t.\t4486400\t4487800\t207,11,198\r\n",
      "chr1\t4480000\t4490000\tchr1\t4487800\t4497800\t11_Repressed\t0\t.\t4487800\t4497800\t127,127,127\r\n",
      "chr1\t4755000\t4760000\tchr1\t4758400\t4758800\t15_Insulator\t0\t.\t4758400\t4758800\t10,190,254\r\n",
      "chr1\t4755000\t4760000\tchr1\t4758800\t4759600\t1_Txn_Elongation\t0\t.\t4758800\t4759600\t0,176,80\r\n"
     ]
    }
   ],
   "source": [
    "! bedtools intersect -a interm/nb2/mES_loop_boundaries_sorted.bed \\\n",
    "-b data/mESC_cStates_HMM.bed -wa -wb > interm/nb2/mES_loop_boundaries_intersectWithChromHMM.bed\n",
    "! head -n10 interm/nb2/mES_loop_boundaries_intersectWithChromHMM.bed"
   ]
  },
  {
   "cell_type": "code",
   "execution_count": 359,
   "metadata": {
    "collapsed": false
   },
   "outputs": [
    {
     "name": "stdout",
     "output_type": "stream",
     "text": [
      "3991 4754 4652 13126\n",
      "0.304053024531 0.362181928996 0.354411092488\n"
     ]
    }
   ],
   "source": [
    "boundary_to_chromhmm = collections.defaultdict(lambda: [])\n",
    "with open(\"interm/nb2/mES_loop_boundaries_intersectWithChromHMM.bed\", 'r') as ifile:\n",
    "    reader = csv.reader(ifile, 'textdialect')\n",
    "    for row in reader:\n",
    "        boundary_to_chromhmm['_'.join(row[:2])].append(row[6])\n",
    "ctr = 0  \n",
    "ins_ctr = set()\n",
    "prom_ctr = set()\n",
    "enh_ctr = set()\n",
    "for boundary in boundary_to_chromhmm:\n",
    "    ctr += 1\n",
    "    for chromhmm in boundary_to_chromhmm[boundary]:\n",
    "        if 'insulator' in chromhmm.lower(): ins_ctr.add(boundary)\n",
    "        if 'promoter' in chromhmm.lower(): prom_ctr.add(boundary)\n",
    "        if 'enhancer' in chromhmm.lower(): enh_ctr.add(boundary)\n",
    "            \n",
    "print len(ins_ctr), len(prom_ctr), len(enh_ctr), ctr\n",
    "print float(len(ins_ctr))/ctr, float(len(prom_ctr))/ctr, float(len(enh_ctr))/ctr"
   ]
  },
  {
   "cell_type": "markdown",
   "metadata": {},
   "source": [
    "So, about 30% of boundaries coincide roughly with an insulator / insulator-DHS. Later we'll have to define CTCF motifs and directionality more carefully. What this also says is that not every CTCF binding site (since this was HiChIP) is part of a DHS."
   ]
  },
  {
   "cell_type": "markdown",
   "metadata": {},
   "source": [
    "## 7SK HiChIRP loops\n",
    "\n",
    "Here we'll just quickly look at the boundaries of these loops and see if they fall in enhancers and promoters, compared to cohesin loops."
   ]
  },
  {
   "cell_type": "code",
   "execution_count": 335,
   "metadata": {
    "collapsed": false
   },
   "outputs": [
    {
     "name": "stdout",
     "output_type": "stream",
     "text": [
      "(6106, 25)\n"
     ]
    },
    {
     "data": {
      "text/html": [
       "<div style=\"max-height:1000px;max-width:1500px;overflow:auto;\">\n",
       "<table border=\"1\" class=\"dataframe\">\n",
       "  <thead>\n",
       "    <tr style=\"text-align: right;\">\n",
       "      <th></th>\n",
       "      <th>chr1</th>\n",
       "      <th>x1</th>\n",
       "      <th>x2</th>\n",
       "      <th>chr2</th>\n",
       "      <th>y1</th>\n",
       "      <th>y2</th>\n",
       "      <th>color</th>\n",
       "      <th>binBL</th>\n",
       "      <th>binDonut</th>\n",
       "      <th>binH</th>\n",
       "      <th>...</th>\n",
       "      <th>expectedH</th>\n",
       "      <th>expectedV</th>\n",
       "      <th>fdrBL</th>\n",
       "      <th>fdrDonut</th>\n",
       "      <th>fdrH</th>\n",
       "      <th>fdrV</th>\n",
       "      <th>numCollapsed</th>\n",
       "      <th>observed</th>\n",
       "      <th>peak</th>\n",
       "      <th>radius</th>\n",
       "    </tr>\n",
       "  </thead>\n",
       "  <tbody>\n",
       "    <tr>\n",
       "      <th>0</th>\n",
       "      <td> chr10</td>\n",
       "      <td>  7100000</td>\n",
       "      <td>  7110000</td>\n",
       "      <td> chr10</td>\n",
       "      <td> 22100000</td>\n",
       "      <td> 22110000</td>\n",
       "      <td> 0,255,255</td>\n",
       "      <td> 0</td>\n",
       "      <td> 0</td>\n",
       "      <td> 0</td>\n",
       "      <td>...</td>\n",
       "      <td> 0.319659</td>\n",
       "      <td> 0.083819</td>\n",
       "      <td> 0.001923</td>\n",
       "      <td> 0.005153</td>\n",
       "      <td> 0.004656</td>\n",
       "      <td> 0.004367</td>\n",
       "      <td> 1</td>\n",
       "      <td> 13</td>\n",
       "      <td> 2</td>\n",
       "      <td> 31180</td>\n",
       "    </tr>\n",
       "    <tr>\n",
       "      <th>1</th>\n",
       "      <td> chr10</td>\n",
       "      <td> 50610000</td>\n",
       "      <td> 50620000</td>\n",
       "      <td> chr10</td>\n",
       "      <td> 51740000</td>\n",
       "      <td> 51750000</td>\n",
       "      <td> 0,255,255</td>\n",
       "      <td> 0</td>\n",
       "      <td> 0</td>\n",
       "      <td> 0</td>\n",
       "      <td>...</td>\n",
       "      <td> 0.827062</td>\n",
       "      <td> 0.034583</td>\n",
       "      <td> 0.001923</td>\n",
       "      <td> 0.005153</td>\n",
       "      <td> 0.004656</td>\n",
       "      <td> 0.004367</td>\n",
       "      <td> 1</td>\n",
       "      <td> 13</td>\n",
       "      <td> 2</td>\n",
       "      <td> 31180</td>\n",
       "    </tr>\n",
       "    <tr>\n",
       "      <th>2</th>\n",
       "      <td> chr10</td>\n",
       "      <td> 22530000</td>\n",
       "      <td> 22540000</td>\n",
       "      <td> chr10</td>\n",
       "      <td> 23060000</td>\n",
       "      <td> 23070000</td>\n",
       "      <td> 0,255,255</td>\n",
       "      <td> 1</td>\n",
       "      <td> 1</td>\n",
       "      <td> 3</td>\n",
       "      <td>...</td>\n",
       "      <td> 2.139398</td>\n",
       "      <td> 1.492468</td>\n",
       "      <td> 0.000150</td>\n",
       "      <td> 0.000246</td>\n",
       "      <td> 0.015445</td>\n",
       "      <td> 0.000288</td>\n",
       "      <td> 1</td>\n",
       "      <td> 13</td>\n",
       "      <td> 2</td>\n",
       "      <td> 31180</td>\n",
       "    </tr>\n",
       "    <tr>\n",
       "      <th>3</th>\n",
       "      <td> chr10</td>\n",
       "      <td> 60875000</td>\n",
       "      <td> 60880000</td>\n",
       "      <td> chr10</td>\n",
       "      <td> 62355000</td>\n",
       "      <td> 62360000</td>\n",
       "      <td> 0,255,255</td>\n",
       "      <td> 2</td>\n",
       "      <td> 1</td>\n",
       "      <td> 1</td>\n",
       "      <td>...</td>\n",
       "      <td> 1.507383</td>\n",
       "      <td> 1.816983</td>\n",
       "      <td> 0.000298</td>\n",
       "      <td> 0.000032</td>\n",
       "      <td> 0.000038</td>\n",
       "      <td> 0.000375</td>\n",
       "      <td> 1</td>\n",
       "      <td> 14</td>\n",
       "      <td> 5</td>\n",
       "      <td> 22500</td>\n",
       "    </tr>\n",
       "    <tr>\n",
       "      <th>4</th>\n",
       "      <td> chr10</td>\n",
       "      <td> 38900000</td>\n",
       "      <td> 38905000</td>\n",
       "      <td> chr10</td>\n",
       "      <td> 39235000</td>\n",
       "      <td> 39240000</td>\n",
       "      <td> 0,255,255</td>\n",
       "      <td> 2</td>\n",
       "      <td> 3</td>\n",
       "      <td> 2</td>\n",
       "      <td>...</td>\n",
       "      <td> 1.918248</td>\n",
       "      <td> 2.342882</td>\n",
       "      <td> 0.000298</td>\n",
       "      <td> 0.003199</td>\n",
       "      <td> 0.000370</td>\n",
       "      <td> 0.002716</td>\n",
       "      <td> 1</td>\n",
       "      <td> 14</td>\n",
       "      <td> 3</td>\n",
       "      <td> 22500</td>\n",
       "    </tr>\n",
       "  </tbody>\n",
       "</table>\n",
       "<p>5 rows × 25 columns</p>\n",
       "</div>"
      ],
      "text/plain": [
       "    chr1        x1        x2   chr2        y1        y2      color  binBL  \\\n",
       "0  chr10   7100000   7110000  chr10  22100000  22110000  0,255,255      0   \n",
       "1  chr10  50610000  50620000  chr10  51740000  51750000  0,255,255      0   \n",
       "2  chr10  22530000  22540000  chr10  23060000  23070000  0,255,255      1   \n",
       "3  chr10  60875000  60880000  chr10  62355000  62360000  0,255,255      2   \n",
       "4  chr10  38900000  38905000  chr10  39235000  39240000  0,255,255      2   \n",
       "\n",
       "   binDonut  binH   ...    expectedH  expectedV     fdrBL  fdrDonut      fdrH  \\\n",
       "0         0     0   ...     0.319659   0.083819  0.001923  0.005153  0.004656   \n",
       "1         0     0   ...     0.827062   0.034583  0.001923  0.005153  0.004656   \n",
       "2         1     3   ...     2.139398   1.492468  0.000150  0.000246  0.015445   \n",
       "3         1     1   ...     1.507383   1.816983  0.000298  0.000032  0.000038   \n",
       "4         3     2   ...     1.918248   2.342882  0.000298  0.003199  0.000370   \n",
       "\n",
       "       fdrV  numCollapsed  observed  peak  radius  \n",
       "0  0.004367             1        13     2   31180  \n",
       "1  0.004367             1        13     2   31180  \n",
       "2  0.000288             1        13     2   31180  \n",
       "3  0.000375             1        14     5   22500  \n",
       "4  0.002716             1        14     3   22500  \n",
       "\n",
       "[5 rows x 25 columns]"
      ]
     },
     "execution_count": 335,
     "metadata": {},
     "output_type": "execute_result"
    }
   ],
   "source": [
    "chirploops = pd.read_table(\"data/loops/HiChIRP_v65_7SK_hiccups.txt\")\n",
    "print chirploops.shape\n",
    "chirploops.head()"
   ]
  },
  {
   "cell_type": "code",
   "execution_count": 347,
   "metadata": {
    "collapsed": false
   },
   "outputs": [
    {
     "name": "stdout",
     "output_type": "stream",
     "text": [
      "chr1\t4504500\t4505500\r\n",
      "chr1\t4754500\t4755500\r\n",
      "chr1\t4772000\t4773000\r\n",
      "chr1\t4807000\t4808000\r\n",
      "chr1\t4884500\t4885500\r\n",
      "chr1\t5064500\t5065500\r\n",
      "chr1\t5904500\t5905500\r\n",
      "chr1\t6124500\t6125500\r\n",
      "chr1\t8564500\t8565500\r\n",
      "chr1\t8924500\t8925500\r\n"
     ]
    }
   ],
   "source": [
    "loop1 = chirploops.ix[:,:3]\n",
    "loop2 = chirploops.ix[:,3:6]\n",
    "loop1.columns = [\"chr\", \"x\", \"y\"]\n",
    "loop2.columns = [\"chr\", \"x\", \"y\"]\n",
    "boundaries = pd.concat((loop1, loop2))\n",
    "avg = ((boundaries[\"x\"] + boundaries[\"y\"])/2).astype(int)\n",
    "boundaries[\"x\"] = avg - 500\n",
    "boundaries[\"y\"] = avg + 500\n",
    "boundaries.to_csv(\"interm/nb2/mES_7sk_loop_boundaries.bed\", header=False, index=False, sep='\\t')\n",
    "! sort -k1,1 -k2,2n interm/nb2/mES_7sk_loop_boundaries.bed | uniq > interm/nb2/mES_7sk_loop_boundaries_sorted.bed\n",
    "! head interm/nb2/mES_7sk_loop_boundaries_sorted.bed"
   ]
  },
  {
   "cell_type": "code",
   "execution_count": 348,
   "metadata": {
    "collapsed": false
   },
   "outputs": [
    {
     "name": "stdout",
     "output_type": "stream",
     "text": [
      "chr1\t5904500\t5905500\tchr1\t5904595\t5906595\tchr1__5904595__5906595__5905595__DHSpeak_66__11_Repressed__0\tinf\t+\r\n",
      "chr1\t8924500\t8925500\tchr1\t8925290\t8927290\tchr1__8925290__8927290__8926335__DHSpeak_146__2_Weak_Txn__116\t0.93558025758540342\t+\r\n",
      "chr1\t12707000\t12708000\tchr1\t12707693\t12709693\tchr1__12707693__12709693__12708445__DHSpeak_251__7_Active_Promoter__196\t0.97235271306211846\t+\r\n",
      "chr1\t12854500\t12855500\tchr1\t12854237\t12856237\tchr1__12854237__12856237__12855595__DHSpeak_264__6_Strong_Enhancer__277\t0.75764520276373815\t+\r\n",
      "chr1\t13062000\t13063000\tchr1\t13060766\t13062766\tchr1__13060766__13062766__13061605__DHSpeak_275__5_Active_Promoter__521\t2.6542236111869406\t+\r\n",
      "chr1\t13117000\t13118000\tchr1\t13116270\t13118270\tchr1__13116270__13118270__13117355__DHSpeak_289__10_Poised_Promoter__57\t1.7403644337865949\t-\r\n",
      "chr1\t13117000\t13118000\tchr1\t13117189\t13119189\tchr1__13117189__13119189__13118155__DHSpeak_290__11_Repressed__327\t3.1863518383577496\t-\r\n",
      "chr1\t16647000\t16648000\tchr1\t16646194\t16648194\tchr1__16646194__16648194__16646765__DHSpeak_400__7_Active_Promoter__142\t4.9944315072215408\t-\r\n",
      "chr1\t16647000\t16648000\tchr1\t16646220\t16648220\tchr1__16646220__16648220__16647255__DHSpeak_401__5_Active_Promoter__196\t4.8283253603431753\t-\r\n",
      "chr1\t18094500\t18095500\tchr1\t18095455\t18097455\tchr1__18095455__18097455__18096455__DHSpeak_435__13_Heterochrom__0\tinf\t-\r\n"
     ]
    }
   ],
   "source": [
    "! bedtools intersect -a interm/nb2/mES_7sk_loop_boundaries_sorted.bed \\\n",
    "-b interm/nb1/160504_dhs_grodirec_sorted.bed -wa -wb -sorted > interm/nb2/mES_7sk_loop_boundaries_intersectWithDHS.bed\n",
    "! head -n10 interm/nb2/mES_7sk_loop_boundaries_intersectWithDHS.bed"
   ]
  },
  {
   "cell_type": "code",
   "execution_count": 349,
   "metadata": {
    "collapsed": false
   },
   "outputs": [
    {
     "name": "stdout",
     "output_type": "stream",
     "text": [
      "1141 1692 1151 4841\n",
      "0.235695104317 0.349514563107 0.237760793225\n"
     ]
    }
   ],
   "source": [
    "boundary_to_dhs = collections.defaultdict(lambda: [])\n",
    "with open(\"interm/nb2/mES_7sk_loop_boundaries_intersectWithDHS.bed\", 'r') as ifile:\n",
    "    reader = csv.reader(ifile, 'textdialect')\n",
    "    for row in reader:\n",
    "        boundary_to_dhs['_'.join(row[:2])].append(row[6])\n",
    "ctr = 0  \n",
    "ins_ctr = set()\n",
    "prom_ctr = set()\n",
    "enh_ctr = set()\n",
    "for boundary in boundary_to_dhs:\n",
    "    ctr += 1\n",
    "    for dhs in boundary_to_dhs[boundary]:\n",
    "        if 'insulator' in dhs.lower(): ins_ctr.add(boundary)\n",
    "        if 'promoter' in dhs.lower(): prom_ctr.add(boundary)\n",
    "        if 'enhancer' in dhs.lower(): enh_ctr.add(boundary)\n",
    "            \n",
    "print len(ins_ctr), len(prom_ctr), len(enh_ctr), ctr\n",
    "print float(len(ins_ctr))/ctr, float(len(prom_ctr))/ctr, float(len(enh_ctr))/ctr"
   ]
  }
 ],
 "metadata": {
  "kernelspec": {
   "display_name": "Python 2",
   "language": "python",
   "name": "python2"
  },
  "language_info": {
   "codemirror_mode": {
    "name": "ipython",
    "version": 2
   },
   "file_extension": ".py",
   "mimetype": "text/x-python",
   "name": "python",
   "nbconvert_exporter": "python",
   "pygments_lexer": "ipython2",
   "version": "2.7.8"
  }
 },
 "nbformat": 4,
 "nbformat_minor": 0
}
